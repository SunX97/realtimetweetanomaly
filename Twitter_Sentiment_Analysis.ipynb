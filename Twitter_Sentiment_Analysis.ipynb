{
  "nbformat": 4,
  "nbformat_minor": 0,
  "metadata": {
    "colab": {
      "provenance": []
    },
    "kernelspec": {
      "name": "python3",
      "display_name": "Python 3"
    },
    "language_info": {
      "name": "python"
    }
  },
  "cells": [
    {
      "cell_type": "markdown",
      "metadata": {
        "id": "view-in-github",
        "colab_type": "text"
      },
      "source": [
        "# Twitter Sentiment Analysis\n",
        "\n",
        "This notebook performs comprehensive sentiment analysis on Twitter data and creates visualizations showing the distribution of positive, negative, and neutral sentiments.\n",
        "\n",
        "## Features:\n",
        "- Uses both TextBlob and VADER sentiment analysis\n",
        "- Creates multiple visualizations including bar charts and pie charts\n",
        "- Analyzes engagement patterns by sentiment\n",
        "- Exports results to CSV for further analysis"
      ]
    },
    {
      "cell_type": "markdown",
      "metadata": {
        "id": "setup"
      },
      "source": [
        "## 1. Setup and Package Installation"
      ]
    },
    {
      "cell_type": "code",
      "execution_count": null,
      "metadata": {
        "id": "install-packages"
      },
      "outputs": [],
      "source": [
        "# Install required packages\n",
        "!pip install textblob vaderSentiment matplotlib seaborn pandas\n",
        "\n",
        "# Download NLTK data for TextBlob\n",
        "import nltk\n",
        "nltk.download('punkt')\n",
        "nltk.download('brown')\n",
        "nltk.download('vader_lexicon')"
      ]
    },
    {
      "cell_type": "markdown",
      "metadata": {
        "id": "imports"
      },
      "source": [
        "## 2. Import Libraries"
      ]
    },
    {
      "cell_type": "code",
      "execution_count": null,
      "metadata": {
        "id": "import-libraries"
      },
      "outputs": [],
      "source": [
        "import pandas as pd\n",
        "import matplotlib.pyplot as plt\n",
        "import seaborn as sns\n",
        "from textblob import TextBlob\n",
        "from vaderSentiment.vaderSentiment import SentimentIntensityAnalyzer\n",
        "import warnings\n",
        "warnings.filterwarnings('ignore')\n",
        "\n",
        "# Set up matplotlib for Google Colab\n",
        "plt.style.use('default')\n",
        "sns.set_palette(\"husl\")\n",
        "\n",
        "print(\"Libraries imported successfully!\")"
      ]
    },
    {
      "cell_type": "markdown",
      "metadata": {
        "id": "upload-data"
      },
      "source": [
        "## 3. Upload and Load Dataset\n",
        "\n",
        "Upload your `twitter_dataset.csv` file using the file upload feature in Colab."
      ]
    },
    {
      "cell_type": "code",
      "execution_count": null,
      "metadata": {
        "id": "upload-files"
      },
      "outputs": [],
      "source": [
        "from google.colab import files\n",
        "\n",
        "# Upload the dataset\n",
        "print(\"Please upload your twitter_dataset.csv file:\")\n",
        "uploaded = files.upload()\n",
        "\n",
        "# Get the uploaded filename\n",
        "dataset_filename = list(uploaded.keys())[0]\n",
        "print(f\"Dataset uploaded: {dataset_filename}\")"
      ]
    },
    {
      "cell_type": "code",
      "execution_count": null,
      "metadata": {
        "id": "load-data"
      },
      "outputs": [],
      "source": [
        "# Load and examine the dataset\n",
        "def load_twitter_data(file_path):\n",
        "    \"\"\"Load and preprocess Twitter dataset\"\"\"\n",
        "    print(\"Loading Twitter dataset...\")\n",
        "    try:\n",
        "        df = pd.read_csv(file_path)\n",
        "        print(f\"Dataset loaded successfully! Shape: {df.shape}\")\n",
        "        print(f\"Columns: {list(df.columns)}\")\n",
        "        return df\n",
        "    except Exception as e:\n",
        "        print(f\"Error loading dataset: {e}\")\n",
        "        return None\n",
        "\n",
        "# Load the dataset\n",
        "df = load_twitter_data(dataset_filename)\n",
        "\n",
        "# Display first few rows\n",
        "print(\"\\nFirst 5 rows of the dataset:\")\n",
        "df.head()"
      ]
    },
    {
      "cell_type": "markdown",
      "metadata": {
        "id": "sentiment-functions"
      },
      "source": [
        "## 4. Sentiment Analysis Functions"
      ]
    },
    {
      "cell_type": "code",
      "execution_count": null,
      "metadata": {
        "id": "define-functions"
      },
      "outputs": [],
      "source": [
        "def analyze_sentiment_textblob(text):\n",
        "    \"\"\"Analyze sentiment using TextBlob\"\"\"\n",
        "    try:\n",
        "        blob = TextBlob(text)\n",
        "        polarity = blob.sentiment.polarity\n",
        "        \n",
        "        if polarity > 0:\n",
        "            return 'Positive'\n",
        "        elif polarity < 0:\n",
        "            return 'Negative'\n",
        "        else:\n",
        "            return 'Neutral'\n",
        "    except:\n",
        "        return 'Neutral'\n",
        "\n",
        "def analyze_sentiment_vader(text):\n",
        "    \"\"\"Analyze sentiment using VADER\"\"\"\n",
        "    analyzer = SentimentIntensityAnalyzer()\n",
        "    try:\n",
        "        scores = analyzer.polarity_scores(text)\n",
        "        compound = scores['compound']\n",
        "        \n",
        "        if compound >= 0.05:\n",
        "            return 'Positive'\n",
        "        elif compound <= -0.05:\n",
        "            return 'Negative'\n",
        "        else:\n",
        "            return 'Neutral'\n",
        "    except:\n",
        "        return 'Neutral'\n",
        "\n",
        "print(\"Sentiment analysis functions defined!\")"
      ]
    },
    {
      "cell_type": "markdown",
      "metadata": {
        "id": "perform-analysis"
      },
      "source": [
        "## 5. Perform Sentiment Analysis"
      ]
    },
    {
      "cell_type": "code",
      "execution_count": null,
      "metadata": {
        "id": "run-analysis"
      },
      "outputs": [],
      "source": [
        "# Perform sentiment analysis\n",
        "print(\"Performing sentiment analysis...\")\n",
        "\n",
        "# Clean the text column\n",
        "df['Text'] = df['Text'].astype(str)\n",
        "\n",
        "# Apply sentiment analysis using both methods\n",
        "print(\"Analyzing with TextBlob...\")\n",
        "df['sentiment_textblob'] = df['Text'].apply(analyze_sentiment_textblob)\n",
        "\n",
        "print(\"Analyzing with VADER...\")\n",
        "df['sentiment_vader'] = df['Text'].apply(analyze_sentiment_vader)\n",
        "\n",
        "# Create a combined sentiment (using VADER as primary)\n",
        "df['sentiment'] = df['sentiment_vader']\n",
        "\n",
        "print(\"Sentiment analysis completed!\")\n",
        "print(f\"\\nDataset now has {len(df.columns)} columns:\")\n",
        "print(list(df.columns))"
      ]
    },
    {
      "cell_type": "markdown",
      "metadata": {
        "id": "visualizations"
      },
      "source": [
        "## 6. Create Sentiment Visualizations"
      ]
    },
    {
      "cell_type": "code",
      "execution_count": null,
      "metadata": {
        "id": "create-viz"
      },
      "outputs": [],
      "source": [
        "# Create comprehensive sentiment visualization\n",
        "print(\"Creating sentiment visualization...\")\n",
        "\n",
        "# Create figure with subplots\n",
        "fig, ((ax1, ax2), (ax3, ax4)) = plt.subplots(2, 2, figsize=(15, 12))\n",
        "fig.suptitle('Twitter Sentiment Analysis Dashboard', fontsize=16, fontweight='bold')\n",
        "\n",
        "# 1. VADER Sentiment Distribution (Main Chart)\n",
        "sentiment_counts = df['sentiment_vader'].value_counts()\n",
        "colors = ['#2E8B57', '#DC143C', '#FFD700']  # Green, Red, Gold\n",
        "bars1 = ax1.bar(sentiment_counts.index, sentiment_counts.values, color=colors)\n",
        "ax1.set_title('Sentiment Distribution (VADER)', fontweight='bold')\n",
        "ax1.set_xlabel('Sentiment')\n",
        "ax1.set_ylabel('Number of Tweets')\n",
        "\n",
        "# Add value labels on bars\n",
        "for bar in bars1:\n",
        "    height = bar.get_height()\n",
        "    ax1.annotate(f'{int(height)}',\n",
        "                xy=(bar.get_x() + bar.get_width() / 2, height),\n",
        "                xytext=(0, 3),  # 3 points vertical offset\n",
        "                textcoords=\"offset points\",\n",
        "                ha='center', va='bottom', fontweight='bold')\n",
        "\n",
        "# 2. TextBlob Sentiment Distribution\n",
        "sentiment_counts_tb = df['sentiment_textblob'].value_counts()\n",
        "bars2 = ax2.bar(sentiment_counts_tb.index, sentiment_counts_tb.values, color=colors)\n",
        "ax2.set_title('Sentiment Distribution (TextBlob)', fontweight='bold')\n",
        "ax2.set_xlabel('Sentiment')\n",
        "ax2.set_ylabel('Number of Tweets')\n",
        "\n",
        "# Add value labels on bars\n",
        "for bar in bars2:\n",
        "    height = bar.get_height()\n",
        "    ax2.annotate(f'{int(height)}',\n",
        "                xy=(bar.get_x() + bar.get_width() / 2, height),\n",
        "                xytext=(0, 3),\n",
        "                textcoords=\"offset points\",\n",
        "                ha='center', va='bottom', fontweight='bold')\n",
        "\n",
        "# 3. Percentage Distribution (Pie Chart)\n",
        "sentiment_percentages = df['sentiment_vader'].value_counts(normalize=True) * 100\n",
        "ax3.pie(sentiment_percentages.values, labels=sentiment_percentages.index, autopct='%1.1f%%',\n",
        "        colors=colors, startangle=90)\n",
        "ax3.set_title('Sentiment Percentage Distribution', fontweight='bold')\n",
        "\n",
        "# 4. Sentiment by Engagement (Likes vs Sentiment)\n",
        "sentiment_likes = df.groupby('sentiment_vader')['Likes'].mean()\n",
        "bars4 = ax4.bar(sentiment_likes.index, sentiment_likes.values, color=colors)\n",
        "ax4.set_title('Average Likes by Sentiment', fontweight='bold')\n",
        "ax4.set_xlabel('Sentiment')\n",
        "ax4.set_ylabel('Average Likes')\n",
        "\n",
        "# Add value labels on bars\n",
        "for bar in bars4:\n",
        "    height = bar.get_height()\n",
        "    ax4.annotate(f'{height:.1f}',\n",
        "                xy=(bar.get_x() + bar.get_width() / 2, height),\n",
        "                xytext=(0, 3),\n",
        "                textcoords=\"offset points\",\n",
        "                ha='center', va='bottom', fontweight='bold')\n",
        "\n",
        "plt.tight_layout()\n",
        "plt.show()"
      ]
    },
    {
      "cell_type": "markdown",
      "metadata": {
        "id": "simple-bar-chart"
      },
      "source": [
        "## 7. Simple Bar Chart - Positive vs Negative Sentiment"
      ]
    },
    {
      "cell_type": "code",
      "execution_count": null,
      "metadata": {
        "id": "simple-bar"
      },
      "outputs": [],
      "source": [
        "# Create a simple bar chart showing positive vs negative sentiment distribution\n",
        "plt.figure(figsize=(10, 6))\n",
        "\n",
        "# Get sentiment counts\n",
        "sentiment_counts = df['sentiment_vader'].value_counts()\n",
        "\n",
        "# Create bar chart\n",
        "colors = {'Positive': '#2E8B57', 'Negative': '#DC143C', 'Neutral': '#FFD700'}\n",
        "bar_colors = [colors.get(sentiment, '#808080') for sentiment in sentiment_counts.index]\n",
        "\n",
        "bars = plt.bar(sentiment_counts.index, sentiment_counts.values, color=bar_colors)\n",
        "\n",
        "# Customize the chart\n",
        "plt.title('Twitter Sentiment Distribution', fontsize=16, fontweight='bold', pad=20)\n",
        "plt.xlabel('Sentiment', fontsize=12, fontweight='bold')\n",
        "plt.ylabel('Number of Tweets', fontsize=12, fontweight='bold')\n",
        "\n",
        "# Add value labels on top of bars\n",
        "for bar in bars:\n",
        "    height = bar.get_height()\n",
        "    plt.annotate(f'{int(height)}',\n",
        "                xy=(bar.get_x() + bar.get_width() / 2, height),\n",
        "                xytext=(0, 3),\n",
        "                textcoords=\"offset points\",\n",
        "                ha='center', va='bottom', \n",
        "                fontsize=14, fontweight='bold')\n",
        "\n",
        "# Add percentage labels\n",
        "total_tweets = len(df)\n",
        "for i, (sentiment, count) in enumerate(sentiment_counts.items()):\n",
        "    percentage = (count / total_tweets) * 100\n",
        "    plt.annotate(f'({percentage:.1f}%)',\n",
        "                xy=(i, count),\n",
        "                xytext=(0, -30),\n",
        "                textcoords=\"offset points\",\n",
        "                ha='center', va='top',\n",
        "                fontsize=12, fontweight='bold')\n",
        "\n",
        "plt.grid(axis='y', alpha=0.3)\n",
        "plt.tight_layout()\n",
        "plt.show()\n",
        "\n",
        "print(f\"\\nSentiment Analysis Results:\")\n",
        "for sentiment, count in sentiment_counts.items():\n",
        "    percentage = (count / total_tweets) * 100\n",
        "    print(f\"{sentiment}: {count} tweets ({percentage:.1f}%)\")"
      ]
    },
    {
      "cell_type": "markdown",
      "metadata": {
        "id": "analysis-summary"
      },
      "source": [
        "## 8. Detailed Analysis Summary"
      ]
    },
    {
      "cell_type": "code",
      "execution_count": null,
      "metadata": {
        "id": "summary"
      },
      "outputs": [],
      "source": [
        "# Print comprehensive analysis summary\n",
        "print(\"=\" * 60)\n",
        "print(\"TWITTER SENTIMENT ANALYSIS SUMMARY\")\n",
        "print(\"=\" * 60)\n",
        "\n",
        "total_tweets = len(df)\n",
        "print(f\"Total tweets analyzed: {total_tweets:,}\")\n",
        "\n",
        "print(\"\\n--- VADER Sentiment Analysis ---\")\n",
        "vader_counts = df['sentiment_vader'].value_counts()\n",
        "for sentiment, count in vader_counts.items():\n",
        "    percentage = (count / total_tweets) * 100\n",
        "    print(f\"{sentiment}: {count:,} tweets ({percentage:.1f}%)\")\n",
        "\n",
        "print(\"\\n--- TextBlob Sentiment Analysis ---\")\n",
        "textblob_counts = df['sentiment_textblob'].value_counts()\n",
        "for sentiment, count in textblob_counts.items():\n",
        "    percentage = (count / total_tweets) * 100\n",
        "    print(f\"{sentiment}: {count:,} tweets ({percentage:.1f}%)\")\n",
        "\n",
        "print(\"\\n--- Engagement Analysis ---\")\n",
        "engagement_by_sentiment = df.groupby('sentiment_vader')[['Likes', 'Retweets']].mean()\n",
        "print(\"Average engagement by sentiment (VADER):\")\n",
        "print(engagement_by_sentiment.round(2))\n",
        "\n",
        "print(\"\\n--- Sample Tweets by Sentiment ---\")\n",
        "for sentiment in ['Positive', 'Negative', 'Neutral']:\n",
        "    if sentiment in df['sentiment_vader'].values:\n",
        "        sample_tweets = df[df['sentiment_vader'] == sentiment]['Text'].head(2)\n",
        "        print(f\"\\n{sentiment} tweet examples:\")\n",
        "        for i, tweet in enumerate(sample_tweets, 1):\n",
        "            print(f\"  {i}. \\\"{tweet[:80]}...\\\"\")"
      ]
    },
    {
      "cell_type": "markdown",
      "metadata": {
        "id": "export-results"
      },
      "source": [
        "## 9. Export Results"
      ]
    },
    {
      "cell_type": "code",
      "execution_count": null,
      "metadata": {
        "id": "export"
      },
      "outputs": [],
      "source": [
        "# Save results to CSV\n",
        "output_file = 'twitter_sentiment_results.csv'\n",
        "df.to_csv(output_file, index=False)\n",
        "print(f\"Results saved to: {output_file}\")\n",
        "\n",
        "# Download the results file\n",
        "files.download(output_file)\n",
        "\n",
        "# Display final dataset structure\n",
        "print(f\"\\nFinal dataset shape: {df.shape}\")\n",
        "print(f\"New columns added: sentiment_textblob, sentiment_vader, sentiment\")\n",
        "df.head()"
      ]
    },
    {
      "cell_type": "markdown",
      "metadata": {
        "id": "advanced-analysis"
      },
      "source": [
        "## 10. Advanced Analysis (Optional)"
      ]
    },
    {
      "cell_type": "code",
      "execution_count": null,
      "metadata": {
        "id": "advanced"
      },
      "outputs": [],
      "source": [
        "# Additional analysis for blockchain/FinTech context\n",
        "# Filter tweets that might be related to financial topics\n",
        "financial_keywords = ['money', 'payment', 'bank', 'finance', 'crypto', 'bitcoin', 'blockchain', 'economic']\n",
        "financial_pattern = '|'.join(financial_keywords)\n",
        "\n",
        "df['is_financial'] = df['Text'].str.contains(financial_pattern, case=False, na=False)\n",
        "financial_tweets = df[df['is_financial']]\n",
        "\n",
        "if len(financial_tweets) > 0:\n",
        "    print(f\"\\nFound {len(financial_tweets)} tweets with financial keywords\")\n",
        "    \n",
        "    # Sentiment distribution for financial tweets\n",
        "    fin_sentiment = financial_tweets['sentiment_vader'].value_counts()\n",
        "    \n",
        "    plt.figure(figsize=(10, 6))\n",
        "    bars = plt.bar(fin_sentiment.index, fin_sentiment.values, \n",
        "                   color=['#2E8B57' if x=='Positive' else '#DC143C' if x=='Negative' else '#FFD700' \n",
        "                         for x in fin_sentiment.index])\n",
        "    \n",
        "    plt.title('Sentiment Distribution - Financial/Crypto Related Tweets', \n",
        "              fontsize=14, fontweight='bold')\n",
        "    plt.xlabel('Sentiment')\n",
        "    plt.ylabel('Number of Tweets')\n",
        "    \n",
        "    # Add labels\n",
        "    for bar in bars:\n",
        "        height = bar.get_height()\n",
        "        plt.annotate(f'{int(height)}',\n",
        "                    xy=(bar.get_x() + bar.get_width() / 2, height),\n",
        "                    xytext=(0, 3),\n",
        "                    textcoords=\"offset points\",\n",
        "                    ha='center', va='bottom', fontweight='bold')\n",
        "    \n",
        "    plt.tight_layout()\n",
        "    plt.show()\n",
        "    \n",
        "    print(\"\\nFinancial tweets sentiment breakdown:\")\n",
        "    for sentiment, count in fin_sentiment.items():\n",
        "        percentage = (count / len(financial_tweets)) * 100\n",
        "        print(f\"{sentiment}: {count} tweets ({percentage:.1f}%)\")\n",
        "else:\n",
        "    print(\"\\nNo tweets found with financial keywords in this dataset.\")"
      ]
    }
  ]
}
